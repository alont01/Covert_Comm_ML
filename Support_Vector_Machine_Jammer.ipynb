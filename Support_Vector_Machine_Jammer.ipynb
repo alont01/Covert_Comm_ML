{
  "nbformat": 4,
  "nbformat_minor": 0,
  "metadata": {
    "colab": {
      "provenance": [],
      "authorship_tag": "ABX9TyNeDbSdoS0TWzeiRCYR2G74",
      "include_colab_link": true
    },
    "kernelspec": {
      "name": "python3",
      "display_name": "Python 3"
    },
    "language_info": {
      "name": "python"
    }
  },
  "cells": [
    {
      "cell_type": "markdown",
      "metadata": {
        "id": "view-in-github",
        "colab_type": "text"
      },
      "source": [
        "<a href=\"https://colab.research.google.com/github/alont01/Covert_Comm_ML/blob/main/Support_Vector_Machine_Jammer.ipynb\" target=\"_parent\"><img src=\"https://colab.research.google.com/assets/colab-badge.svg\" alt=\"Open In Colab\"/></a>"
      ]
    },
    {
      "cell_type": "code",
      "execution_count": null,
      "metadata": {
        "id": "9PVqvSy7jqTd"
      },
      "outputs": [],
      "source": [
        "from sklearn import svm\n",
        "from sklearn.svm import SVC\n",
        "from sklearn.pipeline import Pipeline\n",
        "from sklearn.preprocessing import PolynomialFeatures\n",
        "from sklearn.preprocessing import StandardScaler\n",
        "from sklearn.metrics import accuracy_score\n",
        "\n",
        "import random\n",
        "import numpy\n",
        "import math\n",
        "\n",
        "\n"
      ]
    },
    {
      "cell_type": "code",
      "source": [
        "mu=0\n",
        "sigma=1\n",
        "N=600 #number of channels \n",
        "e = 10000 # number of training samples\n",
        "M=3 # number of blocks \n",
        "\n",
        "\n",
        "\n",
        "\n",
        "# H0 with Background and H1 with Background and Alice \n",
        "\n",
        "\n",
        "x_train_full = [0]*e\n",
        "y_train_full = [0]*e\n",
        "\n",
        "\n",
        "\n",
        "for iter in range(e):\n",
        "\n",
        "  Z=[0]*N # create array of size N initialized to zero\n",
        "\n",
        "  # train H0 on even count, train H1 on odd count\n",
        "  \n",
        "  #add jammer noise using exponential and guassian variables\n",
        "  gamma_array=[0]*M\n",
        "  \n",
        "  for gamma in gamma_array:\n",
        "    gamma=random.expovariate(1) # exponential variable\n",
        "  \n",
        "\n",
        "  for g in range(len(gamma_array)):\n",
        "    for n in range(g*N//M, (g+1)*N//M):\n",
        "       Z[n]+=gamma_array[g]*random.gauss(mu, sigma)\n",
        "  \n",
        "  \n",
        "  # Add background noise on channel and Alice if alternate hypothesis\n",
        "  thres_param = math.sqrt(N) #math.sqrt(N)\n",
        "  for n in range(N):\n",
        "    Z[n]+=random.gauss(mu, sigma)\n",
        "     \n",
        "    if (n%(N//thres_param)==0 and iter%2==0): # add every sqrt(N) times\n",
        "      Z[n]+=random.gauss(mu, sigma)\n",
        "\n",
        "  #training vectors for ML \n",
        "  U=[0]*M\n",
        "\n",
        "  for m in range(M): #iterate m times\n",
        "    chi_var=0\n",
        "    for n in range(m*N//M, (m+1)*N//M):\n",
        "      chi_var+=Z[n]**2\n",
        "    U[m]=chi_var\n",
        "  \n",
        "  \n",
        "  \n",
        "  x_train_full[iter]=U\n",
        "\n",
        "  if iter%2==0: # if H1 label with 1\n",
        "    y_train_full[iter]=[1]\n",
        "  else: # if H0 label with 0\n",
        "    y_train_full[iter]=[0]\n",
        "\n",
        "x_valid, x_train = x_train_full[:e//10], x_train_full[e//10:]\n",
        "y_valid, y_train = y_train_full[:e//10], y_train_full[e//10:]\n",
        "\n",
        "print(len(x_valid))\n",
        "\n",
        "print(len(y_valid))\n",
        "  "
      ],
      "metadata": {
        "colab": {
          "base_uri": "https://localhost:8080/"
        },
        "id": "kVE2BShKkPgD",
        "outputId": "474c793c-1b7b-42c8-e06d-516a9ede50f0"
      },
      "execution_count": null,
      "outputs": [
        {
          "output_type": "stream",
          "name": "stdout",
          "text": [
            "1000\n",
            "1000\n"
          ]
        }
      ]
    },
    {
      "cell_type": "code",
      "source": [
        "poly_kernel_svm_clf = Pipeline([\n",
        "(\"scaler\", StandardScaler()),\n",
        "(\"svm_clf\", SVC(kernel=\"poly\", degree=3, coef0=1, C=5))\n",
        "])\n",
        "poly_kernel_svm_clf.fit(x_train, y_train)\n",
        "\n",
        "\n",
        "predictions = poly_kernel_svm_clf.predict(x_valid)\n",
        "print(accuracy_score(y_valid, predictions))"
      ],
      "metadata": {
        "colab": {
          "base_uri": "https://localhost:8080/"
        },
        "id": "BzY8I-JFk3qs",
        "outputId": "976cbc7b-ffd5-4edd-f185-c17ec7135837"
      },
      "execution_count": null,
      "outputs": [
        {
          "output_type": "stream",
          "name": "stderr",
          "text": [
            "/usr/local/lib/python3.7/dist-packages/sklearn/utils/validation.py:993: DataConversionWarning: A column-vector y was passed when a 1d array was expected. Please change the shape of y to (n_samples, ), for example using ravel().\n",
            "  y = column_or_1d(y, warn=True)\n"
          ]
        },
        {
          "output_type": "stream",
          "name": "stdout",
          "text": [
            "0.635\n"
          ]
        }
      ]
    }
  ]
}