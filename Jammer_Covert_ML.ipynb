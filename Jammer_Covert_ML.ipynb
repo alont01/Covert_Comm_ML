{
  "cells": [
    {
      "cell_type": "markdown",
      "metadata": {
        "id": "view-in-github",
        "colab_type": "text"
      },
      "source": [
        "<a href=\"https://colab.research.google.com/github/alont01/Covert_Comm_ML/blob/main/Jammer_Covert_ML.ipynb\" target=\"_parent\"><img src=\"https://colab.research.google.com/assets/colab-badge.svg\" alt=\"Open In Colab\"/></a>"
      ]
    },
    {
      "cell_type": "code",
      "execution_count": null,
      "metadata": {
        "id": "ExbeAeC0ePTg"
      },
      "outputs": [],
      "source": [
        "import tensorflow as tf\n",
        "from tensorflow import keras\n",
        "from tensorflow.keras.models import Sequential\n",
        "from tensorflow.keras.layers import Dense\n",
        "\n",
        "\n",
        "import random\n",
        "import numpy\n",
        "import math\n",
        "\n",
        "keras.__version__"
      ]
    },
    {
      "cell_type": "code",
      "execution_count": null,
      "metadata": {
        "id": "azPrS8_-f43Y"
      },
      "outputs": [],
      "source": [
        "mu=0\n",
        "sigma=1\n",
        "N=600 #number of channels \n",
        "e = 100000 # number of training samples\n",
        "M=3 # number of blocks \n",
        "\n",
        "\n",
        "\n",
        "\n",
        "# H0 with Background and H1 with Background and Alice \n",
        "\n",
        "\n",
        "x_train_full = [0]*e\n",
        "y_train_full = [0]*e\n",
        "\n",
        "\n",
        "\n",
        "for iter in range(e):\n",
        "\n",
        "  Z=[0]*N # create array of size N initialized to zero\n",
        "\n",
        "  # train H0 on even count, train H1 on odd count\n",
        "  \n",
        "  #add jammer noise using exponential and guassian variables\n",
        "  gamma_array=[0]*M\n",
        "  \n",
        "  for gamma in gamma_array:\n",
        "    gamma=random.expovariate(1) # exponential variable\n",
        "  \n",
        "\n",
        "  for g in range(len(gamma_array)):\n",
        "    for n in range(g*N//M, (g+1)*N//M):\n",
        "       Z[n]+=gamma_array[g]*random.gauss(mu, sigma)\n",
        "  \n",
        "  \n",
        "  # Add background noise on channel and Alice if alternate hypothesis\n",
        "  thres_param = math.sqrt(N)\n",
        "  for n in range(N):\n",
        "    Z[n]+=random.gauss(mu, sigma)\n",
        "     \n",
        "    if (n%(N//thres_param)==0 and iter%2==0): # add every sqrt(N) times\n",
        "      Z[n]+=random.gauss(mu, sigma)\n",
        "\n",
        "  #training vectors for ML \n",
        "  U=[0]*M\n",
        "\n",
        "  for m in range(M): #iterate m times\n",
        "    chi_var=0\n",
        "    for n in range(m*N//M, (m+1)*N//M):\n",
        "      chi_var+=Z[n]**2\n",
        "    U[m]=chi_var\n",
        "  \n",
        "  \n",
        "  \n",
        "  x_train_full[iter]=U\n",
        "\n",
        "  if iter%2==0: # if H1 label with 1\n",
        "    y_train_full[iter]=[1]\n",
        "  else: # if H0 label with 0\n",
        "    y_train_full[iter]=[0]\n",
        "\n",
        "x_valid, x_train = x_train_full[:e//10], x_train_full[e//10:]\n",
        "y_valid, y_train = y_train_full[:e//10], y_train_full[e//10:]\n",
        "\n",
        "print(len(x_valid))\n",
        "\n",
        "print(len(y_valid))\n",
        "  \n"
      ]
    },
    {
      "cell_type": "code",
      "execution_count": null,
      "metadata": {
        "id": "LLWeliZAqWGk"
      },
      "outputs": [],
      "source": [
        "print(y_train[0])\n",
        "print(x_train[0])\n",
        "\n",
        "print(y_train[33])\n",
        "print(x_train[33])"
      ]
    },
    {
      "cell_type": "code",
      "execution_count": null,
      "metadata": {
        "id": "QJ5HNITVh3dp"
      },
      "outputs": [],
      "source": [
        "### sequential Model\n",
        "\n",
        "model = keras.models.Sequential([\n",
        "keras.layers.Flatten(input_shape=[3,]),\n",
        "keras.layers.Dense(10, activation = \"relu\"),\n",
        "keras.layers.Dense(50, activation = \"relu\"),\n",
        "keras.layers.Dense(20, activation = \"relu\"),\n",
        "keras.layers.Dense(1, activation = \"sigmoid\"),\n",
        "])\n",
        "model.summary()\n"
      ]
    },
    {
      "cell_type": "code",
      "execution_count": null,
      "metadata": {
        "id": "4Bq5726aoxZe"
      },
      "outputs": [],
      "source": [
        "model.compile(loss = 'binary_crossentropy',\n",
        "             optimizer ='adam',metrics=['accuracy'])"
      ]
    },
    {
      "cell_type": "code",
      "execution_count": null,
      "metadata": {
        "colab": {
          "background_save": true
        },
        "id": "7wlBllXyo2V3"
      },
      "outputs": [],
      "source": [
        "history = model.fit(x_train, y_train, epochs=30, validation_data=(x_valid, y_valid))"
      ]
    },
    {
      "cell_type": "code",
      "execution_count": null,
      "metadata": {
        "colab": {
          "background_save": true
        },
        "id": "4zmoqt-BrnIc"
      },
      "outputs": [],
      "source": [
        "loss, accuracy = model.evaluate(x_valid, y_valid, verbose=0)\n",
        "print(loss)\n",
        "print(accuracy)"
      ]
    },
    {
      "cell_type": "code",
      "execution_count": null,
      "metadata": {
        "colab": {
          "background_save": true
        },
        "id": "I2H-GpcVlV7-"
      },
      "outputs": [],
      "source": [
        "### practice \n",
        "\n",
        "fashion_mnist = keras.datasets.fashion_mnist\n",
        "(X_train_full, y_train_full), (X_test, y_test) = fashion_mnist.load_data()\n",
        "\n",
        "X_valid, X_train = X_train_full[:5000] / 255.0, X_train_full[5000:] / 255.0\n",
        "y_valid, y_train = y_train_full[:5000], y_train_full[5000:]\n",
        "\n",
        "class_names = [\"T-shirt/top\", \"Trouser\", \"Pullover\", \"Dress\", \"Coat\",\n",
        "\"Sandal\", \"Shirt\", \"Sneaker\", \"Bag\", \"Ankle boot\"]"
      ]
    },
    {
      "cell_type": "code",
      "execution_count": null,
      "metadata": {
        "colab": {
          "background_save": true
        },
        "id": "xUoZX9YflqC2"
      },
      "outputs": [],
      "source": [
        "model = keras.models.Sequential()\n",
        "model.add(keras.layers.Flatten(input_shape=[28, 28]))\n",
        "model.add(keras.layers.Dense(300, activation=\"relu\"))\n",
        "model.add(keras.layers.Dense(100, activation=\"relu\"))\n",
        "model.add(keras.layers.Dense(10, activation=\"softmax\"))\n",
        "\n",
        "\n",
        "model.compile(loss=\"sparse_categorical_crossentropy\",\n",
        "optimizer=\"sgd\",\n",
        "metrics=[\"accuracy\"])\n",
        "\n",
        "\n",
        "history = model.fit(X_train, y_train, epochs=30, validation_data=(X_valid, y_valid))\n"
      ]
    }
  ],
  "metadata": {
    "colab": {
      "provenance": [],
      "authorship_tag": "ABX9TyMYPEMLZOMEQ1xgHhhyuUui",
      "include_colab_link": true
    },
    "kernelspec": {
      "display_name": "Python 3",
      "name": "python3"
    },
    "language_info": {
      "name": "python"
    }
  },
  "nbformat": 4,
  "nbformat_minor": 0
}