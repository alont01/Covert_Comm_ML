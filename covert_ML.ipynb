{
  "nbformat": 4,
  "nbformat_minor": 0,
  "metadata": {
    "colab": {
      "provenance": [],
      "authorship_tag": "ABX9TyNfsbXxY7nS/2yygmd02xC4",
      "include_colab_link": true
    },
    "kernelspec": {
      "name": "python3",
      "display_name": "Python 3"
    },
    "language_info": {
      "name": "python"
    }
  },
  "cells": [
    {
      "cell_type": "markdown",
      "metadata": {
        "id": "view-in-github",
        "colab_type": "text"
      },
      "source": [
        "<a href=\"https://colab.research.google.com/github/alont01/Covert_Comm_ML/blob/main/covert_ML.ipynb\" target=\"_parent\"><img src=\"https://colab.research.google.com/assets/colab-badge.svg\" alt=\"Open In Colab\"/></a>"
      ]
    },
    {
      "cell_type": "code",
      "execution_count": null,
      "metadata": {
        "colab": {
          "base_uri": "https://localhost:8080/"
        },
        "id": "vRy92WwIDZPX",
        "outputId": "06ffcf00-196d-4b7c-e79c-1e5f675a92ff"
      },
      "outputs": [
        {
          "output_type": "stream",
          "name": "stdout",
          "text": [
            "[[ 96.54985   ]\n",
            " [ 83.92459378]\n",
            " [ 80.55463203]\n",
            " [ 54.37981648]\n",
            " [101.59337124]\n",
            " [102.52324656]\n",
            " [ 78.89429346]\n",
            " [121.07279429]\n",
            " [116.53986565]\n",
            " [102.02823892]\n",
            " [136.61536895]\n",
            " [ 85.89608118]\n",
            " [111.90103039]\n",
            " [137.03190495]\n",
            " [115.51461586]\n",
            " [ 93.69559314]\n",
            " [110.40685555]\n",
            " [102.9840045 ]\n",
            " [ 97.8545447 ]\n",
            " [126.04611821]]\n",
            "[0 0 0 0 0 0 0 0 0 0 1 1 1 1 1 1 1 1 1 1]\n",
            "[1]\n"
          ]
        }
      ],
      "source": [
        "# create m sets of sums of n gaussian distribution\n",
        "\n",
        "import numpy as np\n",
        "import random\n",
        "from sklearn.pipeline import Pipeline\n",
        "from sklearn.preprocessing import StandardScaler\n",
        "from sklearn.svm import SVC\n",
        "import math\n",
        "\n",
        "\n",
        "mu=0\n",
        "sigma=1\n",
        "N=1000 #number of channel uses\n",
        "M = 100 # number of training samples\n",
        "\n",
        "Y0=[] # null where Alice does not transmit \n",
        "Y1=[] # where Alice transmits signal\n",
        "\n",
        "\n",
        "thres_param= math.sqrt(N) #math.sqrt(N)\n",
        "for m in range(M):\n",
        "  y0=0\n",
        "  y1=0\n",
        "  for n in range(N):\n",
        "    y0+=random.gauss(mu, sigma)**2\n",
        "    y1+=random.gauss(mu, sigma)**2\n",
        "    if (n%(N/thres_param)==0): # add every sqrt(N) times\n",
        "      y1+=random.gauss(mu, sigma)**2\n",
        "  Y0+=[y0]\n",
        "  Y1+=[y1]\n",
        "\n",
        "classes=[]\n",
        "for y in Y0:\n",
        "  classes+=[0]\n",
        "for y in Y1:\n",
        "  classes+=[1]\n",
        "\n",
        "\n",
        "\n",
        "\n",
        "X=np.reshape(Y0+Y1, (20,1))\n",
        "Y=np.array(classes)\n",
        "\n",
        "print(X)\n",
        "print(Y)\n",
        "svm_clf = SVC(kernel='linear', C=1)\n",
        "svm_clf.fit(X, Y)\n",
        "\n",
        "# test set \n",
        "y0_test=0\n",
        "y1_test=0\n",
        "for n in range(N):\n",
        "    y0_test+=random.gauss(mu, sigma)**2\n",
        "    y1_test+=random.gauss(mu, sigma)**2\n",
        "    if (n%(N/thres_param)==0): # add every N/thres_param times\n",
        "      y1_test+=random.gauss(m, sigma)**2\n",
        "\n",
        "\n",
        "print(svm_clf.predict([[y1_test]]))\n",
        "\n",
        "\n",
        "\n"
      ]
    },
    {
      "cell_type": "code",
      "source": [
        "### visualization\n",
        "\n",
        "#plt.scatter(X, c=Y, s=50, cmap='autumn'))\n",
        "\n",
        "import matplotlib.pyplot as plt\n",
        "from mlxtend.plotting import plot_decision_regions\n",
        "\n",
        "#plt.scatter([0]*20, X, c=Y, s=50, cmap='autumn')\n",
        "\n",
        "\n",
        "fig = plot_decision_regions(X=X, y=Y, clf=svm_clf, legend=2)"
      ],
      "metadata": {
        "colab": {
          "base_uri": "https://localhost:8080/",
          "height": 320
        },
        "id": "tAoxh7OtJPk0",
        "outputId": "9a7bc8e1-655d-4f3e-a23b-e37f2045d71a"
      },
      "execution_count": null,
      "outputs": [
        {
          "output_type": "stream",
          "name": "stderr",
          "text": [
            "/usr/local/lib/python3.7/dist-packages/mlxtend/plotting/decision_regions.py:244: MatplotlibDeprecationWarning: Passing unsupported keyword arguments to axis() will raise a TypeError in 3.3.\n",
            "  ax.axis(xmin=xx.min(), xmax=xx.max(), y_min=yy.min(), y_max=yy.max())\n"
          ]
        },
        {
          "output_type": "display_data",
          "data": {
            "text/plain": [
              "<Figure size 432x288 with 1 Axes>"
            ],
            "image/png": "[encoded data removed]"
          },
          "metadata": {
            "needs_background": "light"
          }
        }
      ]
    },
    {
      "cell_type": "code",
      "source": [
        "#### tensorflow ######\n",
        "\n",
        "import tensorflow as tf\n",
        "import numpy as np\n",
        "import random\n",
        "print(\"TensorFlow version:\", tf.__version__)\n",
        "\n",
        "model = tf.keras.models.Sequential([\n",
        "  tf.keras.layers.Flatten(input_shape=(28, 28)),\n",
        "  tf.keras.layers.Dense(128, activation='relu'),\n",
        "  tf.keras.layers.Dropout(0.2),\n",
        "  tf.keras.layers.Dense(10)\n",
        "])\n",
        "\n",
        "\n",
        "mu=0\n",
        "sigma=1\n",
        "N=100 #number of channels \n",
        "M = 10 # number of training samples\n",
        "\n",
        "Y0=[] # null where Alice does not transmit \n",
        "Y1=[] # where Alice transmits signal\n",
        "\n",
        "\n",
        "thres_param= N #math.sqrt(N)\n",
        "for m in range(M):\n",
        "  y0=0\n",
        "  y1=0\n",
        "  for n in range(N):\n",
        "    y0+=random.gauss(mu, sigma)**2\n",
        "    y1+=random.gauss(mu, sigma)**2\n",
        "    if (n%(N/thres_param)==0): # add every sqrt(N) times\n",
        "      y1+=random.gauss(mu, sigma)**2\n",
        "  Y0+=[y0]\n",
        "  Y1+=[y1]\n",
        "\n",
        "classes=[]\n",
        "for y in Y0:\n",
        "  classes+=[0]\n",
        "for y in Y1:\n",
        "  classes+=[1]\n",
        "\n",
        "\n",
        "\n",
        "\n",
        "X=np.reshape(Y0+Y1, (20,1))\n",
        "Y=np.array(classes)\n",
        "\n",
        "print(X)\n",
        "print(Y)\n",
        "\n",
        "loss_fn = tf.keras.losses.SparseCategoricalCrossentropy(from_logits=True)\n",
        "\n",
        "model.compile(optimizer='adam',\n",
        "              loss=loss_fn,\n",
        "              metrics=['accuracy'])\n",
        "\n",
        "model.fit(X, Y, epochs=5)\n",
        "\n",
        "# test set \n",
        "y0_test=0\n",
        "y1_test=0\n",
        "for n in range(N):\n",
        "    y0_test+=random.gauss(mu, sigma)**2\n",
        "    y1_test+=random.gauss(mu, sigma)**2\n",
        "    if (n%(N/thres_param)==0): # add every N/thres_param times\n",
        "      y1_test+=random.gauss(m, sigma)**2\n",
        "\n",
        "\n",
        "print(svm_clf.predict([[y1_test]]))\n",
        "\n"
      ],
      "metadata": {
        "colab": {
          "base_uri": "https://localhost:8080/",
          "height": 1000
        },
        "id": "MJdgH4Q9nzUx",
        "outputId": "c648591c-06f8-4688-b92b-82e56bf60ba1"
      },
      "execution_count": null,
      "outputs": [
        {
          "output_type": "stream",
          "name": "stdout",
          "text": [
            "TensorFlow version: 2.8.2\n",
            "[[ 95.91502334]\n",
            " [ 79.51040049]\n",
            " [100.31134536]\n",
            " [111.41324841]\n",
            " [117.12291772]\n",
            " [ 81.5452881 ]\n",
            " [100.27251172]\n",
            " [124.35205429]\n",
            " [ 87.77816583]\n",
            " [ 90.4979917 ]\n",
            " [194.88565067]\n",
            " [180.85195913]\n",
            " [209.81304926]\n",
            " [199.27221718]\n",
            " [216.9399003 ]\n",
            " [196.82718831]\n",
            " [204.36833751]\n",
            " [197.75513036]\n",
            " [225.91505999]\n",
            " [190.03768643]]\n",
            "[0 0 0 0 0 0 0 0 0 0 1 1 1 1 1 1 1 1 1 1]\n",
            "Epoch 1/5\n"
          ]
        },
        {
          "output_type": "stream",
          "name": "stderr",
          "text": [
            "WARNING:tensorflow:Model was constructed with shape (None, 28, 28) for input KerasTensor(type_spec=TensorSpec(shape=(None, 28, 28), dtype=tf.float32, name='flatten_4_input'), name='flatten_4_input', description=\"created by layer 'flatten_4_input'\"), but it was called on an input with incompatible shape (None, 1).\n"
          ]
        },
        {
          "output_type": "error",
          "ename": "ValueError",
          "evalue": "ignored",
          "traceback": [
            "\u001b[0;31m---------------------------------------------------------------------------\u001b[0m",
            "\u001b[0;31mValueError\u001b[0m                                Traceback (most recent call last)",
            "\u001b[0;32m<ipython-input-5-105172dcbb01>\u001b[0m in \u001b[0;36m<module>\u001b[0;34m\u001b[0m\n\u001b[1;32m     56\u001b[0m               metrics=['accuracy'])\n\u001b[1;32m     57\u001b[0m \u001b[0;34m\u001b[0m\u001b[0m\n\u001b[0;32m---> 58\u001b[0;31m \u001b[0mmodel\u001b[0m\u001b[0;34m.\u001b[0m\u001b[0mfit\u001b[0m\u001b[0;34m(\u001b[0m\u001b[0mX\u001b[0m\u001b[0;34m,\u001b[0m \u001b[0mY\u001b[0m\u001b[0;34m,\u001b[0m \u001b[0mepochs\u001b[0m\u001b[0;34m=\u001b[0m\u001b[0;36m5\u001b[0m\u001b[0;34m)\u001b[0m\u001b[0;34m\u001b[0m\u001b[0;34m\u001b[0m\u001b[0m\n\u001b[0m\u001b[1;32m     59\u001b[0m \u001b[0;34m\u001b[0m\u001b[0m\n\u001b[1;32m     60\u001b[0m \u001b[0;31m# test set\u001b[0m\u001b[0;34m\u001b[0m\u001b[0;34m\u001b[0m\u001b[0;34m\u001b[0m\u001b[0m\n",
            "\u001b[0;32m/usr/local/lib/python3.7/dist-packages/keras/utils/traceback_utils.py\u001b[0m in \u001b[0;36merror_handler\u001b[0;34m(*args, **kwargs)\u001b[0m\n\u001b[1;32m     65\u001b[0m     \u001b[0;32mexcept\u001b[0m \u001b[0mException\u001b[0m \u001b[0;32mas\u001b[0m \u001b[0me\u001b[0m\u001b[0;34m:\u001b[0m  \u001b[0;31m# pylint: disable=broad-except\u001b[0m\u001b[0;34m\u001b[0m\u001b[0;34m\u001b[0m\u001b[0m\n\u001b[1;32m     66\u001b[0m       \u001b[0mfiltered_tb\u001b[0m \u001b[0;34m=\u001b[0m \u001b[0m_process_traceback_frames\u001b[0m\u001b[0;34m(\u001b[0m\u001b[0me\u001b[0m\u001b[0;34m.\u001b[0m\u001b[0m__traceback__\u001b[0m\u001b[0;34m)\u001b[0m\u001b[0;34m\u001b[0m\u001b[0;34m\u001b[0m\u001b[0m\n\u001b[0;32m---> 67\u001b[0;31m       \u001b[0;32mraise\u001b[0m \u001b[0me\u001b[0m\u001b[0;34m.\u001b[0m\u001b[0mwith_traceback\u001b[0m\u001b[0;34m(\u001b[0m\u001b[0mfiltered_tb\u001b[0m\u001b[0;34m)\u001b[0m \u001b[0;32mfrom\u001b[0m \u001b[0;32mNone\u001b[0m\u001b[0;34m\u001b[0m\u001b[0;34m\u001b[0m\u001b[0m\n\u001b[0m\u001b[1;32m     68\u001b[0m     \u001b[0;32mfinally\u001b[0m\u001b[0;34m:\u001b[0m\u001b[0;34m\u001b[0m\u001b[0;34m\u001b[0m\u001b[0m\n\u001b[1;32m     69\u001b[0m       \u001b[0;32mdel\u001b[0m \u001b[0mfiltered_tb\u001b[0m\u001b[0;34m\u001b[0m\u001b[0;34m\u001b[0m\u001b[0m\n",
            "\u001b[0;32m/usr/local/lib/python3.7/dist-packages/tensorflow/python/framework/func_graph.py\u001b[0m in \u001b[0;36mautograph_handler\u001b[0;34m(*args, **kwargs)\u001b[0m\n\u001b[1;32m   1145\u001b[0m           \u001b[0;32mexcept\u001b[0m \u001b[0mException\u001b[0m \u001b[0;32mas\u001b[0m \u001b[0me\u001b[0m\u001b[0;34m:\u001b[0m  \u001b[0;31m# pylint:disable=broad-except\u001b[0m\u001b[0;34m\u001b[0m\u001b[0;34m\u001b[0m\u001b[0m\n\u001b[1;32m   1146\u001b[0m             \u001b[0;32mif\u001b[0m \u001b[0mhasattr\u001b[0m\u001b[0;34m(\u001b[0m\u001b[0me\u001b[0m\u001b[0;34m,\u001b[0m \u001b[0;34m\"ag_error_metadata\"\u001b[0m\u001b[0;34m)\u001b[0m\u001b[0;34m:\u001b[0m\u001b[0;34m\u001b[0m\u001b[0;34m\u001b[0m\u001b[0m\n\u001b[0;32m-> 1147\u001b[0;31m               \u001b[0;32mraise\u001b[0m \u001b[0me\u001b[0m\u001b[0;34m.\u001b[0m\u001b[0mag_error_metadata\u001b[0m\u001b[0;34m.\u001b[0m\u001b[0mto_exception\u001b[0m\u001b[0;34m(\u001b[0m\u001b[0me\u001b[0m\u001b[0;34m)\u001b[0m\u001b[0;34m\u001b[0m\u001b[0;34m\u001b[0m\u001b[0m\n\u001b[0m\u001b[1;32m   1148\u001b[0m             \u001b[0;32melse\u001b[0m\u001b[0;34m:\u001b[0m\u001b[0;34m\u001b[0m\u001b[0;34m\u001b[0m\u001b[0m\n\u001b[1;32m   1149\u001b[0m               \u001b[0;32mraise\u001b[0m\u001b[0;34m\u001b[0m\u001b[0;34m\u001b[0m\u001b[0m\n",
            "\u001b[0;31mValueError\u001b[0m: in user code:\n\n    File \"/usr/local/lib/python3.7/dist-packages/keras/engine/training.py\", line 1021, in train_function  *\n        return step_function(self, iterator)\n    File \"/usr/local/lib/python3.7/dist-packages/keras/engine/training.py\", line 1010, in step_function  **\n        outputs = model.distribute_strategy.run(run_step, args=(data,))\n    File \"/usr/local/lib/python3.7/dist-packages/keras/engine/training.py\", line 1000, in run_step  **\n        outputs = model.train_step(data)\n    File \"/usr/local/lib/python3.7/dist-packages/keras/engine/training.py\", line 859, in train_step\n        y_pred = self(x, training=True)\n    File \"/usr/local/lib/python3.7/dist-packages/keras/utils/traceback_utils.py\", line 67, in error_handler\n        raise e.with_traceback(filtered_tb) from None\n    File \"/usr/local/lib/python3.7/dist-packages/keras/engine/input_spec.py\", line 249, in assert_input_compatibility\n        f'Input {input_index} of layer \"{layer_name}\" is '\n\n    ValueError: Exception encountered when calling layer \"sequential_4\" (type Sequential).\n    \n    Input 0 of layer \"dense_8\" is incompatible with the layer: expected axis -1 of input shape to have value 784, but received input with shape (None, 1)\n    \n    Call arguments received:\n      • inputs=tf.Tensor(shape=(None, 1), dtype=float32)\n      • training=True\n      • mask=None\n"
          ]
        }
      ]
    }
  ]
}